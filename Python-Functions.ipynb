{
 "cells": [
  {
   "cell_type": "code",
   "execution_count": 1,
   "id": "51e55ddc-e601-4ef4-8aa0-28528d738d49",
   "metadata": {},
   "outputs": [],
   "source": [
    "def greet(): # define the function\n",
    "    print('good evening') # Print the statement"
   ]
  },
  {
   "cell_type": "code",
   "execution_count": 2,
   "id": "3aa3d57e-4882-44cd-aae3-ec43be1289f9",
   "metadata": {},
   "outputs": [
    {
     "name": "stdout",
     "output_type": "stream",
     "text": [
      "Good evening\n"
     ]
    }
   ],
   "source": [
    "def greet(): # define the function\n",
    "    print(\"Good evening\") # Print the statement\n",
    "greet() # call the function"
   ]
  },
  {
   "cell_type": "code",
   "execution_count": 3,
   "id": "f1c87cad-52a7-4a9a-b09e-2b2ec9d91160",
   "metadata": {},
   "outputs": [
    {
     "name": "stdout",
     "output_type": "stream",
     "text": [
      "Good evening\n",
      "Good evening\n",
      "Good evening\n"
     ]
    }
   ],
   "source": [
    "def greet():  \n",
    "    print(\"Good evening\") \n",
    "greet() \n",
    "\n",
    "def greet():  \n",
    "    print(\"Good evening\") \n",
    "greet()\n",
    "\n",
    "def greet():  \n",
    "    print(\"Good evening\") \n",
    "greet()\n"
   ]
  },
  {
   "cell_type": "code",
   "execution_count": 4,
   "id": "26867a14-6513-4ad7-88c5-30f80b5c8b2a",
   "metadata": {},
   "outputs": [
    {
     "name": "stdout",
     "output_type": "stream",
     "text": [
      "Good evening\n",
      "\n",
      "Good evening\n",
      "\n",
      "Good evening\n"
     ]
    }
   ],
   "source": [
    "def greet():  \n",
    "    print(\"Good evening\") \n",
    "greet()\n",
    "print()\n",
    "greet()\n",
    "print()\n",
    "greet()"
   ]
  },
  {
   "cell_type": "code",
   "execution_count": 6,
   "id": "4e9539cd-fffc-4171-a9e0-9fb73efe330a",
   "metadata": {},
   "outputs": [
    {
     "name": "stdout",
     "output_type": "stream",
     "text": [
      "Good evening\n",
      "Good evening\n",
      "Good evening\n",
      "\n",
      "Good evening\n"
     ]
    }
   ],
   "source": [
    "def greet():  \n",
    "    print(\"Good evening\") \n",
    "greet()\n",
    "\n",
    "greet()\n",
    "\n",
    "greet()\n",
    "print()\n",
    "greet()"
   ]
  },
  {
   "cell_type": "code",
   "execution_count": 8,
   "id": "8714dda2-ba1b-409f-92d3-9278399c2c5b",
   "metadata": {},
   "outputs": [
    {
     "name": "stdout",
     "output_type": "stream",
     "text": [
      "16\n",
      "25\n"
     ]
    }
   ],
   "source": [
    "def add(x,y):\n",
    "    c = x + y\n",
    "    print(c)\n",
    "\n",
    "add(10,6)\n",
    "add(20,5)"
   ]
  },
  {
   "cell_type": "code",
   "execution_count": 10,
   "id": "921cc8d0-7611-461c-83b6-3876b1a5b5d5",
   "metadata": {},
   "outputs": [
    {
     "ename": "TypeError",
     "evalue": "add() takes 1 positional argument but 2 were given",
     "output_type": "error",
     "traceback": [
      "\u001b[1;31m---------------------------------------------------------------------------\u001b[0m",
      "\u001b[1;31mTypeError\u001b[0m                                 Traceback (most recent call last)",
      "Cell \u001b[1;32mIn[10], line 5\u001b[0m\n\u001b[0;32m      2\u001b[0m     c \u001b[38;5;241m=\u001b[39m x \u001b[38;5;241m+\u001b[39m y\n\u001b[0;32m      3\u001b[0m     \u001b[38;5;28mprint\u001b[39m(c)\n\u001b[1;32m----> 5\u001b[0m add(\u001b[38;5;241m10\u001b[39m,\u001b[38;5;241m6\u001b[39m)\n",
      "\u001b[1;31mTypeError\u001b[0m: add() takes 1 positional argument but 2 were given"
     ]
    }
   ],
   "source": [
    "def add(x):\n",
    "    c = x + y\n",
    "    print(c)\n",
    "\n",
    "add(10,6)"
   ]
  },
  {
   "cell_type": "code",
   "execution_count": 11,
   "id": "6635c6f7-7d49-48d6-af74-37a2a741493f",
   "metadata": {},
   "outputs": [
    {
     "ename": "TypeError",
     "evalue": "add() missing 1 required positional argument: 'z'",
     "output_type": "error",
     "traceback": [
      "\u001b[1;31m---------------------------------------------------------------------------\u001b[0m",
      "\u001b[1;31mTypeError\u001b[0m                                 Traceback (most recent call last)",
      "Cell \u001b[1;32mIn[11], line 5\u001b[0m\n\u001b[0;32m      2\u001b[0m     c \u001b[38;5;241m=\u001b[39m x \u001b[38;5;241m+\u001b[39m y\n\u001b[0;32m      3\u001b[0m     \u001b[38;5;28mprint\u001b[39m(c)\n\u001b[1;32m----> 5\u001b[0m add(\u001b[38;5;241m10\u001b[39m,\u001b[38;5;241m6\u001b[39m)\n",
      "\u001b[1;31mTypeError\u001b[0m: add() missing 1 required positional argument: 'z'"
     ]
    }
   ],
   "source": [
    "def add(x,y,z):\n",
    "    c = x + y + z\n",
    "    print(c)\n",
    "\n",
    "add(10,6)\n"
   ]
  },
  {
   "cell_type": "code",
   "execution_count": 12,
   "id": "a45a4eb9-2a2d-43da-b29f-b09e6621ae7d",
   "metadata": {},
   "outputs": [
    {
     "ename": "TypeError",
     "evalue": "add() takes 2 positional arguments but 3 were given",
     "output_type": "error",
     "traceback": [
      "\u001b[1;31m---------------------------------------------------------------------------\u001b[0m",
      "\u001b[1;31mTypeError\u001b[0m                                 Traceback (most recent call last)",
      "Cell \u001b[1;32mIn[12], line 5\u001b[0m\n\u001b[0;32m      2\u001b[0m     c \u001b[38;5;241m=\u001b[39m x \u001b[38;5;241m+\u001b[39m y\n\u001b[0;32m      3\u001b[0m     \u001b[38;5;28mprint\u001b[39m(c)\n\u001b[1;32m----> 5\u001b[0m add(\u001b[38;5;241m10\u001b[39m,\u001b[38;5;241m6\u001b[39m,\u001b[38;5;241m7\u001b[39m)\n",
      "\u001b[1;31mTypeError\u001b[0m: add() takes 2 positional arguments but 3 were given"
     ]
    }
   ],
   "source": [
    "def add(x,y):\n",
    "    c = x + y\n",
    "    print(c)\n",
    "\n",
    "add(10,6,7)"
   ]
  },
  {
   "cell_type": "code",
   "execution_count": 17,
   "id": "a8591182-a59c-49c3-b898-6baaefaaeed0",
   "metadata": {},
   "outputs": [
    {
     "name": "stdout",
     "output_type": "stream",
     "text": [
      "Aniket Good evening\n",
      "\n",
      "16\n"
     ]
    }
   ],
   "source": [
    "def greet(name):\n",
    "    print(f'{name} Good evening')\n",
    "greet('Aniket')\n",
    "print()\n",
    "def add(x,y):\n",
    "    c = x + y\n",
    "    print(c)\n",
    "\n",
    "add(10,6)"
   ]
  },
  {
   "cell_type": "code",
   "execution_count": 18,
   "id": "d60dcf27-47a4-4cb5-b014-4699eef1cd4e",
   "metadata": {},
   "outputs": [
    {
     "name": "stdout",
     "output_type": "stream",
     "text": [
      "Aniket Good evening\n",
      "16\n"
     ]
    }
   ],
   "source": [
    "# Define function at upper side and call the functions at bottom in last \n",
    "def greet(name):\n",
    "    print(f'{name} Good evening')\n",
    "\n",
    "def add(x,y):\n",
    "    c = x + y\n",
    "    print(c)\n",
    "    \n",
    "greet('Aniket')\n",
    "add(10,6)"
   ]
  },
  {
   "cell_type": "code",
   "execution_count": 19,
   "id": "27c41b41-c9be-4ea2-8b8a-725cd6deffed",
   "metadata": {},
   "outputs": [
    {
     "name": "stdout",
     "output_type": "stream",
     "text": [
      "Aniket Good evening\n",
      "16\n",
      "15\n"
     ]
    }
   ],
   "source": [
    "def greet(name):\n",
    "    print(f'{name} Good evening')\n",
    "\n",
    "def add(x,y):\n",
    "    c = x + y\n",
    "    print(c)\n",
    "\n",
    "def sub(x,y):\n",
    "    c = x - y\n",
    "    print(c)\n",
    "    \n",
    "greet('Aniket')\n",
    "add(10,6)\n",
    "sub(20,5)"
   ]
  },
  {
   "cell_type": "code",
   "execution_count": 20,
   "id": "16a70a78-4dc6-47fe-97f5-8f413eaf1b0e",
   "metadata": {},
   "outputs": [
    {
     "data": {
      "text/plain": [
       "15"
      ]
     },
     "execution_count": 20,
     "metadata": {},
     "output_type": "execute_result"
    }
   ],
   "source": [
    "def add(x,y):\n",
    "    c = x + y\n",
    "    return c\n",
    "add(10,5)"
   ]
  },
  {
   "cell_type": "code",
   "execution_count": 21,
   "id": "dca72f7a-5ad6-4ce0-9663-fdaf0d5c4192",
   "metadata": {},
   "outputs": [
    {
     "name": "stdout",
     "output_type": "stream",
     "text": [
      "30\n",
      "7\n"
     ]
    }
   ],
   "source": [
    "def add(x,y):\n",
    "    c = x + y\n",
    "    return c\n",
    "\n",
    "def sub(x,y):\n",
    "    d = x - y\n",
    "    return d\n",
    "\n",
    "print(add(10,20))\n",
    "print(sub(10,3))"
   ]
  },
  {
   "cell_type": "code",
   "execution_count": 27,
   "id": "618da01d-701f-48ad-8b38-d5820b6a01c8",
   "metadata": {},
   "outputs": [
    {
     "name": "stdout",
     "output_type": "stream",
     "text": [
      "30\n",
      "7\n",
      "<class 'int'>\n",
      "<class 'int'>\n"
     ]
    }
   ],
   "source": [
    "def add(x,y):\n",
    "    c = x + y\n",
    "    return c\n",
    "\n",
    "def sub(x,y):\n",
    "    d = x - y\n",
    "    return d\n",
    "\n",
    "result1 = add(10,20)\n",
    "result2 = sub(10,3)\n",
    "\n",
    "print(result1)\n",
    "print(result2)\n",
    "\n",
    "print(type(result1))\n",
    "print(type(result2))"
   ]
  },
  {
   "cell_type": "code",
   "execution_count": 24,
   "id": "b25041a4-1f84-42e0-be39-550d339551ce",
   "metadata": {},
   "outputs": [
    {
     "name": "stdout",
     "output_type": "stream",
     "text": [
      "<class 'tuple'>\n",
      "(16, 4)\n"
     ]
    }
   ],
   "source": [
    "def add_sub(x,y):\n",
    "    c = x + y \n",
    "    d = x - y\n",
    "    return c,d\n",
    "\n",
    "result = add_sub(10,6)\n",
    "print(type(result))\n",
    "print(result)"
   ]
  },
  {
   "cell_type": "code",
   "execution_count": 28,
   "id": "ab91914d-fd5c-4a76-b450-6a0fdb14be43",
   "metadata": {},
   "outputs": [
    {
     "name": "stdout",
     "output_type": "stream",
     "text": [
      "16\n",
      "4\n",
      "<class 'int'>\n",
      "<class 'int'>\n"
     ]
    }
   ],
   "source": [
    "def add_sub(x,y):\n",
    "    c = x + y \n",
    "    d = x - y\n",
    "    return c,d\n",
    "\n",
    "result1,result2 = add_sub(10,6)\n",
    "\n",
    "print(result1)\n",
    "print(result2)\n",
    "print(type(result1))\n",
    "print(type(result2))"
   ]
  },
  {
   "cell_type": "markdown",
   "id": "5ce375c8-99e4-4500-91c4-90d0bd2bc403",
   "metadata": {},
   "source": [
    "# Function argument"
   ]
  },
  {
   "cell_type": "code",
   "execution_count": 30,
   "id": "344e2860-dc56-4af7-bb3b-7d1ae2044653",
   "metadata": {},
   "outputs": [
    {
     "data": {
      "text/plain": [
       "8"
      ]
     },
     "execution_count": 30,
     "metadata": {},
     "output_type": "execute_result"
    }
   ],
   "source": [
    "def update():\n",
    "    x = 8\n",
    "    return x\n",
    "\n",
    "update()"
   ]
  },
  {
   "cell_type": "code",
   "execution_count": 31,
   "id": "84f3384a-4518-4579-bfb9-99e3a13521e9",
   "metadata": {},
   "outputs": [
    {
     "data": {
      "text/plain": [
       "8"
      ]
     },
     "execution_count": 31,
     "metadata": {},
     "output_type": "execute_result"
    }
   ],
   "source": [
    "def update(x):\n",
    "    x = 8\n",
    "    return x\n",
    "\n",
    "update(10)"
   ]
  },
  {
   "cell_type": "code",
   "execution_count": 33,
   "id": "240b9391-b368-4146-9325-85cb9b0932f1",
   "metadata": {},
   "outputs": [
    {
     "name": "stdout",
     "output_type": "stream",
     "text": [
      "8\n",
      "10\n"
     ]
    }
   ],
   "source": [
    "def update(x):\n",
    "    x = 8\n",
    "    return x\n",
    "a = 10\n",
    "print(update(a))\n",
    "print(a)"
   ]
  },
  {
   "cell_type": "markdown",
   "id": "7f959f85-95da-4f46-a3fe-1d66efc89d83",
   "metadata": {},
   "source": [
    "### Function without argument--> Not required any argument to pass\n",
    "### Function with argument --> Required argument to pass\n",
    "* **There are two types of argument functions:**\n",
    "\n",
    " - 1.Formal argument function\n",
    "\n",
    " - 2.Actual argument function"
   ]
  },
  {
   "cell_type": "markdown",
   "id": "57720916-ba3f-45f0-bb34-c96e49500bc9",
   "metadata": {},
   "source": [
    "# Formal Arguments"
   ]
  },
  {
   "cell_type": "code",
   "execution_count": null,
   "id": "b65adab3-52fb-4000-9ab9-2e17ecb6e184",
   "metadata": {},
   "outputs": [],
   "source": [
    "def add(x,y): #x and y are Formal argument === Actual Argument in most cases\n",
    "    c = x + y\n",
    "    return c\n",
    "add(10,5) # 10,5 Actual argument"
   ]
  },
  {
   "cell_type": "markdown",
   "id": "25ef4d23-e2ac-4916-abd3-5fc74fd39437",
   "metadata": {},
   "source": [
    "# Actual argument\n",
    "* positional argument\n",
    "* keyword argument\n",
    "* default argument\n",
    "* variable length argument"
   ]
  },
  {
   "cell_type": "markdown",
   "id": "24960cf0-5d26-484c-815c-65d2f137f4cd",
   "metadata": {},
   "source": [
    "# 1. Postitional Argument"
   ]
  },
  {
   "cell_type": "code",
   "execution_count": null,
   "id": "4c8dbcdf-d011-4ee2-8d43-388dd79504d1",
   "metadata": {},
   "outputs": [
    {
     "name": "stdout",
     "output_type": "stream",
     "text": [
      "nit\n",
      "18\n"
     ]
    }
   ],
   "source": [
    "def person(name,age): \n",
    "    print(name)\n",
    "    print(age)\n",
    "\n",
    "person('nit',18)"
   ]
  },
  {
   "cell_type": "code",
   "execution_count": 10,
   "id": "ee19c508-cc83-4de4-8251-c6e6ad52befa",
   "metadata": {},
   "outputs": [
    {
     "data": {
      "text/plain": [
       "15"
      ]
     },
     "execution_count": 10,
     "metadata": {},
     "output_type": "execute_result"
    }
   ],
   "source": [
    "def solve(meal_cost,tip_percent,tax_percent):\n",
    "    \n",
    "    total_cost = round(meal_cost + meal_cost*(tip_percent/100) + meal_cost*(tax_percent/100))\n",
    "    return total_cost\n",
    "\n",
    "solve(12,20,8)"
   ]
  },
  {
   "cell_type": "code",
   "execution_count": null,
   "id": "d785540b-e496-4c66-ad9e-4999177421a3",
   "metadata": {},
   "outputs": [
    {
     "data": {
      "text/plain": [
       "205"
      ]
     },
     "execution_count": 3,
     "metadata": {},
     "output_type": "execute_result"
    }
   ],
   "source": [
    "def add(a,b,c,d,e,f):\n",
    "\n",
    "    c =  a + b + c + d + e + f\n",
    "    return c\n",
    "\n",
    "add(10,20,35,40,65,35)\n",
    "\n"
   ]
  },
  {
   "cell_type": "code",
   "execution_count": null,
   "id": "23cb7415-cd1b-4293-a4cb-b9c023f3bf3a",
   "metadata": {},
   "outputs": [
    {
     "name": "stdout",
     "output_type": "stream",
     "text": [
      "Ani\n",
      "25\n"
     ]
    }
   ],
   "source": [
    "def person(name,age):\n",
    "    print(name)\n",
    "    print(age)\n",
    "\n",
    "person('Ani',25)"
   ]
  },
  {
   "cell_type": "code",
   "execution_count": 7,
   "id": "bb4fc228",
   "metadata": {},
   "outputs": [
    {
     "name": "stdout",
     "output_type": "stream",
     "text": [
      "22\n",
      "Ani\n"
     ]
    }
   ],
   "source": [
    "def person(name,age):\n",
    "    print(name)\n",
    "    print(age)\n",
    "    \n",
    "person(22,'Ani')"
   ]
  },
  {
   "cell_type": "code",
   "execution_count": 8,
   "id": "2f23a445",
   "metadata": {},
   "outputs": [
    {
     "name": "stdout",
     "output_type": "stream",
     "text": [
      "22\n"
     ]
    },
    {
     "ename": "TypeError",
     "evalue": "can only concatenate str (not \"int\") to str",
     "output_type": "error",
     "traceback": [
      "\u001b[1;31m---------------------------------------------------------------------------\u001b[0m",
      "\u001b[1;31mTypeError\u001b[0m                                 Traceback (most recent call last)",
      "Cell \u001b[1;32mIn[8], line 5\u001b[0m\n\u001b[0;32m      2\u001b[0m     \u001b[38;5;28mprint\u001b[39m(name)\n\u001b[0;32m      3\u001b[0m     \u001b[38;5;28mprint\u001b[39m(age \u001b[38;5;241m+\u001b[39m \u001b[38;5;241m1\u001b[39m)\n\u001b[1;32m----> 5\u001b[0m person(\u001b[38;5;241m22\u001b[39m,\u001b[38;5;124m'\u001b[39m\u001b[38;5;124mani\u001b[39m\u001b[38;5;124m'\u001b[39m)\n",
      "Cell \u001b[1;32mIn[8], line 3\u001b[0m, in \u001b[0;36mperson\u001b[1;34m(name, age)\u001b[0m\n\u001b[0;32m      1\u001b[0m \u001b[38;5;28;01mdef\u001b[39;00m \u001b[38;5;21mperson\u001b[39m(name,age):\n\u001b[0;32m      2\u001b[0m     \u001b[38;5;28mprint\u001b[39m(name)\n\u001b[1;32m----> 3\u001b[0m     \u001b[38;5;28mprint\u001b[39m(age \u001b[38;5;241m+\u001b[39m \u001b[38;5;241m1\u001b[39m)\n",
      "\u001b[1;31mTypeError\u001b[0m: can only concatenate str (not \"int\") to str"
     ]
    }
   ],
   "source": [
    "def person(name,age):\n",
    "    print(name)\n",
    "    print(age + 1)\n",
    "\n",
    "person(22,'ani')"
   ]
  },
  {
   "cell_type": "markdown",
   "id": "5ff75fca",
   "metadata": {},
   "source": [
    "# Keyword Argument"
   ]
  },
  {
   "cell_type": "code",
   "execution_count": 12,
   "id": "c9489537",
   "metadata": {},
   "outputs": [
    {
     "name": "stdout",
     "output_type": "stream",
     "text": [
      "Ani\n",
      "25\n"
     ]
    }
   ],
   "source": [
    "def person(name,age):\n",
    "    print(name)\n",
    "    print(age + 1)\n",
    "    \n",
    "person(age = 24,name = 'Ani')"
   ]
  },
  {
   "cell_type": "code",
   "execution_count": 13,
   "id": "67468e4d",
   "metadata": {},
   "outputs": [
    {
     "name": "stdout",
     "output_type": "stream",
     "text": [
      "Ani\n",
      "26\n",
      "10000\n"
     ]
    }
   ],
   "source": [
    "def person(name,age,salary):\n",
    "    print(name)\n",
    "    print(age + 1)\n",
    "    print(salary)\n",
    "    \n",
    "person(name = 'Ani',salary =10000,age = 25)\n",
    "    "
   ]
  },
  {
   "cell_type": "markdown",
   "id": "dbefe0a5",
   "metadata": {},
   "source": [
    "# Default Argument"
   ]
  },
  {
   "cell_type": "code",
   "execution_count": 14,
   "id": "afcd30a3",
   "metadata": {},
   "outputs": [
    {
     "name": "stdout",
     "output_type": "stream",
     "text": [
      "Ani\n",
      "19\n",
      "22\n"
     ]
    }
   ],
   "source": [
    "def person(name,age,age2):\n",
    "    print(name)\n",
    "    print(age)\n",
    "    print(age2)\n",
    "\n",
    "person(age = 19,name = 'Ani',age2 = 22)"
   ]
  },
  {
   "cell_type": "code",
   "execution_count": 15,
   "id": "3de0d164",
   "metadata": {},
   "outputs": [
    {
     "ename": "TypeError",
     "evalue": "person() missing 1 required positional argument: 'age'",
     "output_type": "error",
     "traceback": [
      "\u001b[1;31m---------------------------------------------------------------------------\u001b[0m",
      "\u001b[1;31mTypeError\u001b[0m                                 Traceback (most recent call last)",
      "Cell \u001b[1;32mIn[15], line 5\u001b[0m\n\u001b[0;32m      2\u001b[0m     \u001b[38;5;28mprint\u001b[39m(name)\n\u001b[0;32m      3\u001b[0m     \u001b[38;5;28mprint\u001b[39m(age)\n\u001b[1;32m----> 5\u001b[0m person(\u001b[38;5;124m'\u001b[39m\u001b[38;5;124mAni\u001b[39m\u001b[38;5;124m'\u001b[39m)\n",
      "\u001b[1;31mTypeError\u001b[0m: person() missing 1 required positional argument: 'age'"
     ]
    }
   ],
   "source": [
    "def person(name,age):\n",
    "    print(name)\n",
    "    print(age)\n",
    "\n",
    "person('Ani')"
   ]
  },
  {
   "cell_type": "code",
   "execution_count": 16,
   "id": "e12ae5f2",
   "metadata": {},
   "outputs": [
    {
     "name": "stdout",
     "output_type": "stream",
     "text": [
      "Ani\n",
      "18\n"
     ]
    }
   ],
   "source": [
    "def person(name,age = 18):\n",
    "    print(name)\n",
    "    print(age)\n",
    "    \n",
    "\n",
    "person('Ani')"
   ]
  },
  {
   "cell_type": "code",
   "execution_count": 17,
   "id": "ec45f7a9",
   "metadata": {},
   "outputs": [
    {
     "name": "stdout",
     "output_type": "stream",
     "text": [
      "Ani\n",
      "28\n"
     ]
    }
   ],
   "source": [
    "def person(name,age = 18):\n",
    "    print(name)\n",
    "    print(age)\n",
    "person('Ani',age = 28)"
   ]
  },
  {
   "cell_type": "code",
   "execution_count": null,
   "id": "8bbf7f9c",
   "metadata": {},
   "outputs": [],
   "source": []
  }
 ],
 "metadata": {
  "kernelspec": {
   "display_name": "base",
   "language": "python",
   "name": "python3"
  },
  "language_info": {
   "codemirror_mode": {
    "name": "ipython",
    "version": 3
   },
   "file_extension": ".py",
   "mimetype": "text/x-python",
   "name": "python",
   "nbconvert_exporter": "python",
   "pygments_lexer": "ipython3",
   "version": "3.12.7"
  }
 },
 "nbformat": 4,
 "nbformat_minor": 5
}
