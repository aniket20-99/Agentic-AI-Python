{
 "cells": [
  {
   "cell_type": "code",
   "execution_count": 1,
   "id": "51e55ddc-e601-4ef4-8aa0-28528d738d49",
   "metadata": {},
   "outputs": [],
   "source": [
    "def greet(): # define the function\n",
    "    print('good evening') # Print the statement"
   ]
  },
  {
   "cell_type": "code",
   "execution_count": 2,
   "id": "3aa3d57e-4882-44cd-aae3-ec43be1289f9",
   "metadata": {},
   "outputs": [
    {
     "name": "stdout",
     "output_type": "stream",
     "text": [
      "Good evening\n"
     ]
    }
   ],
   "source": [
    "def greet(): # define the function\n",
    "    print(\"Good evening\") # Print the statement\n",
    "greet() # call the function"
   ]
  },
  {
   "cell_type": "code",
   "execution_count": 3,
   "id": "f1c87cad-52a7-4a9a-b09e-2b2ec9d91160",
   "metadata": {},
   "outputs": [
    {
     "name": "stdout",
     "output_type": "stream",
     "text": [
      "Good evening\n",
      "Good evening\n",
      "Good evening\n"
     ]
    }
   ],
   "source": [
    "def greet():  \n",
    "    print(\"Good evening\") \n",
    "greet() \n",
    "\n",
    "def greet():  \n",
    "    print(\"Good evening\") \n",
    "greet()\n",
    "\n",
    "def greet():  \n",
    "    print(\"Good evening\") \n",
    "greet()\n"
   ]
  },
  {
   "cell_type": "code",
   "execution_count": 4,
   "id": "26867a14-6513-4ad7-88c5-30f80b5c8b2a",
   "metadata": {},
   "outputs": [
    {
     "name": "stdout",
     "output_type": "stream",
     "text": [
      "Good evening\n",
      "\n",
      "Good evening\n",
      "\n",
      "Good evening\n"
     ]
    }
   ],
   "source": [
    "def greet():  \n",
    "    print(\"Good evening\") \n",
    "greet()\n",
    "print()\n",
    "greet()\n",
    "print()\n",
    "greet()"
   ]
  },
  {
   "cell_type": "code",
   "execution_count": 6,
   "id": "4e9539cd-fffc-4171-a9e0-9fb73efe330a",
   "metadata": {},
   "outputs": [
    {
     "name": "stdout",
     "output_type": "stream",
     "text": [
      "Good evening\n",
      "Good evening\n",
      "Good evening\n",
      "\n",
      "Good evening\n"
     ]
    }
   ],
   "source": [
    "def greet():  \n",
    "    print(\"Good evening\") \n",
    "greet()\n",
    "\n",
    "greet()\n",
    "\n",
    "greet()\n",
    "print()\n",
    "greet()"
   ]
  },
  {
   "cell_type": "code",
   "execution_count": 8,
   "id": "8714dda2-ba1b-409f-92d3-9278399c2c5b",
   "metadata": {},
   "outputs": [
    {
     "name": "stdout",
     "output_type": "stream",
     "text": [
      "16\n",
      "25\n"
     ]
    }
   ],
   "source": [
    "def add(x,y):\n",
    "    c = x + y\n",
    "    print(c)\n",
    "\n",
    "add(10,6)\n",
    "add(20,5)"
   ]
  },
  {
   "cell_type": "code",
   "execution_count": 10,
   "id": "921cc8d0-7611-461c-83b6-3876b1a5b5d5",
   "metadata": {},
   "outputs": [
    {
     "ename": "TypeError",
     "evalue": "add() takes 1 positional argument but 2 were given",
     "output_type": "error",
     "traceback": [
      "\u001b[1;31m---------------------------------------------------------------------------\u001b[0m",
      "\u001b[1;31mTypeError\u001b[0m                                 Traceback (most recent call last)",
      "Cell \u001b[1;32mIn[10], line 5\u001b[0m\n\u001b[0;32m      2\u001b[0m     c \u001b[38;5;241m=\u001b[39m x \u001b[38;5;241m+\u001b[39m y\n\u001b[0;32m      3\u001b[0m     \u001b[38;5;28mprint\u001b[39m(c)\n\u001b[1;32m----> 5\u001b[0m add(\u001b[38;5;241m10\u001b[39m,\u001b[38;5;241m6\u001b[39m)\n",
      "\u001b[1;31mTypeError\u001b[0m: add() takes 1 positional argument but 2 were given"
     ]
    }
   ],
   "source": [
    "def add(x):\n",
    "    c = x + y\n",
    "    print(c)\n",
    "\n",
    "add(10,6)"
   ]
  },
  {
   "cell_type": "code",
   "execution_count": 11,
   "id": "6635c6f7-7d49-48d6-af74-37a2a741493f",
   "metadata": {},
   "outputs": [
    {
     "ename": "TypeError",
     "evalue": "add() missing 1 required positional argument: 'z'",
     "output_type": "error",
     "traceback": [
      "\u001b[1;31m---------------------------------------------------------------------------\u001b[0m",
      "\u001b[1;31mTypeError\u001b[0m                                 Traceback (most recent call last)",
      "Cell \u001b[1;32mIn[11], line 5\u001b[0m\n\u001b[0;32m      2\u001b[0m     c \u001b[38;5;241m=\u001b[39m x \u001b[38;5;241m+\u001b[39m y\n\u001b[0;32m      3\u001b[0m     \u001b[38;5;28mprint\u001b[39m(c)\n\u001b[1;32m----> 5\u001b[0m add(\u001b[38;5;241m10\u001b[39m,\u001b[38;5;241m6\u001b[39m)\n",
      "\u001b[1;31mTypeError\u001b[0m: add() missing 1 required positional argument: 'z'"
     ]
    }
   ],
   "source": [
    "def add(x,y,z):\n",
    "    c = x + y + z\n",
    "    print(c)\n",
    "\n",
    "add(10,6)\n"
   ]
  },
  {
   "cell_type": "code",
   "execution_count": 12,
   "id": "a45a4eb9-2a2d-43da-b29f-b09e6621ae7d",
   "metadata": {},
   "outputs": [
    {
     "ename": "TypeError",
     "evalue": "add() takes 2 positional arguments but 3 were given",
     "output_type": "error",
     "traceback": [
      "\u001b[1;31m---------------------------------------------------------------------------\u001b[0m",
      "\u001b[1;31mTypeError\u001b[0m                                 Traceback (most recent call last)",
      "Cell \u001b[1;32mIn[12], line 5\u001b[0m\n\u001b[0;32m      2\u001b[0m     c \u001b[38;5;241m=\u001b[39m x \u001b[38;5;241m+\u001b[39m y\n\u001b[0;32m      3\u001b[0m     \u001b[38;5;28mprint\u001b[39m(c)\n\u001b[1;32m----> 5\u001b[0m add(\u001b[38;5;241m10\u001b[39m,\u001b[38;5;241m6\u001b[39m,\u001b[38;5;241m7\u001b[39m)\n",
      "\u001b[1;31mTypeError\u001b[0m: add() takes 2 positional arguments but 3 were given"
     ]
    }
   ],
   "source": [
    "def add(x,y):\n",
    "    c = x + y\n",
    "    print(c)\n",
    "\n",
    "add(10,6,7)"
   ]
  },
  {
   "cell_type": "code",
   "execution_count": 17,
   "id": "a8591182-a59c-49c3-b898-6baaefaaeed0",
   "metadata": {},
   "outputs": [
    {
     "name": "stdout",
     "output_type": "stream",
     "text": [
      "Aniket Good evening\n",
      "\n",
      "16\n"
     ]
    }
   ],
   "source": [
    "def greet(name):\n",
    "    print(f'{name} Good evening')\n",
    "greet('Aniket')\n",
    "print()\n",
    "def add(x,y):\n",
    "    c = x + y\n",
    "    print(c)\n",
    "\n",
    "add(10,6)"
   ]
  },
  {
   "cell_type": "code",
   "execution_count": 18,
   "id": "d60dcf27-47a4-4cb5-b014-4699eef1cd4e",
   "metadata": {},
   "outputs": [
    {
     "name": "stdout",
     "output_type": "stream",
     "text": [
      "Aniket Good evening\n",
      "16\n"
     ]
    }
   ],
   "source": [
    "# Define function at upper side and call the functions at bottom in last \n",
    "def greet(name):\n",
    "    print(f'{name} Good evening')\n",
    "\n",
    "def add(x,y):\n",
    "    c = x + y\n",
    "    print(c)\n",
    "    \n",
    "greet('Aniket')\n",
    "add(10,6)"
   ]
  },
  {
   "cell_type": "code",
   "execution_count": 19,
   "id": "27c41b41-c9be-4ea2-8b8a-725cd6deffed",
   "metadata": {},
   "outputs": [
    {
     "name": "stdout",
     "output_type": "stream",
     "text": [
      "Aniket Good evening\n",
      "16\n",
      "15\n"
     ]
    }
   ],
   "source": [
    "def greet(name):\n",
    "    print(f'{name} Good evening')\n",
    "\n",
    "def add(x,y):\n",
    "    c = x + y\n",
    "    print(c)\n",
    "\n",
    "def sub(x,y):\n",
    "    c = x - y\n",
    "    print(c)\n",
    "    \n",
    "greet('Aniket')\n",
    "add(10,6)\n",
    "sub(20,5)"
   ]
  },
  {
   "cell_type": "code",
   "execution_count": 20,
   "id": "16a70a78-4dc6-47fe-97f5-8f413eaf1b0e",
   "metadata": {},
   "outputs": [
    {
     "data": {
      "text/plain": [
       "15"
      ]
     },
     "execution_count": 20,
     "metadata": {},
     "output_type": "execute_result"
    }
   ],
   "source": [
    "def add(x,y):\n",
    "    c = x + y\n",
    "    return c\n",
    "add(10,5)"
   ]
  },
  {
   "cell_type": "code",
   "execution_count": 21,
   "id": "dca72f7a-5ad6-4ce0-9663-fdaf0d5c4192",
   "metadata": {},
   "outputs": [
    {
     "name": "stdout",
     "output_type": "stream",
     "text": [
      "30\n",
      "7\n"
     ]
    }
   ],
   "source": [
    "def add(x,y):\n",
    "    c = x + y\n",
    "    return c\n",
    "\n",
    "def sub(x,y):\n",
    "    d = x - y\n",
    "    return d\n",
    "\n",
    "print(add(10,20))\n",
    "print(sub(10,3))"
   ]
  },
  {
   "cell_type": "code",
   "execution_count": 27,
   "id": "618da01d-701f-48ad-8b38-d5820b6a01c8",
   "metadata": {},
   "outputs": [
    {
     "name": "stdout",
     "output_type": "stream",
     "text": [
      "30\n",
      "7\n",
      "<class 'int'>\n",
      "<class 'int'>\n"
     ]
    }
   ],
   "source": [
    "def add(x,y):\n",
    "    c = x + y\n",
    "    return c\n",
    "\n",
    "def sub(x,y):\n",
    "    d = x - y\n",
    "    return d\n",
    "\n",
    "result1 = add(10,20)\n",
    "result2 = sub(10,3)\n",
    "\n",
    "print(result1)\n",
    "print(result2)\n",
    "\n",
    "print(type(result1))\n",
    "print(type(result2))"
   ]
  },
  {
   "cell_type": "code",
   "execution_count": 24,
   "id": "b25041a4-1f84-42e0-be39-550d339551ce",
   "metadata": {},
   "outputs": [
    {
     "name": "stdout",
     "output_type": "stream",
     "text": [
      "<class 'tuple'>\n",
      "(16, 4)\n"
     ]
    }
   ],
   "source": [
    "def add_sub(x,y):\n",
    "    c = x + y \n",
    "    d = x - y\n",
    "    return c,d\n",
    "\n",
    "result = add_sub(10,6)\n",
    "print(type(result))\n",
    "print(result)"
   ]
  },
  {
   "cell_type": "code",
   "execution_count": 28,
   "id": "ab91914d-fd5c-4a76-b450-6a0fdb14be43",
   "metadata": {},
   "outputs": [
    {
     "name": "stdout",
     "output_type": "stream",
     "text": [
      "16\n",
      "4\n",
      "<class 'int'>\n",
      "<class 'int'>\n"
     ]
    }
   ],
   "source": [
    "def add_sub(x,y):\n",
    "    c = x + y \n",
    "    d = x - y\n",
    "    return c,d\n",
    "\n",
    "result1,result2 = add_sub(10,6)\n",
    "\n",
    "print(result1)\n",
    "print(result2)\n",
    "print(type(result1))\n",
    "print(type(result2))"
   ]
  },
  {
   "cell_type": "markdown",
   "id": "5ce375c8-99e4-4500-91c4-90d0bd2bc403",
   "metadata": {},
   "source": [
    "# Function argument"
   ]
  },
  {
   "cell_type": "code",
   "execution_count": 30,
   "id": "344e2860-dc56-4af7-bb3b-7d1ae2044653",
   "metadata": {},
   "outputs": [
    {
     "data": {
      "text/plain": [
       "8"
      ]
     },
     "execution_count": 30,
     "metadata": {},
     "output_type": "execute_result"
    }
   ],
   "source": [
    "def update():\n",
    "    x = 8\n",
    "    return x\n",
    "\n",
    "update()"
   ]
  },
  {
   "cell_type": "code",
   "execution_count": 31,
   "id": "84f3384a-4518-4579-bfb9-99e3a13521e9",
   "metadata": {},
   "outputs": [
    {
     "data": {
      "text/plain": [
       "8"
      ]
     },
     "execution_count": 31,
     "metadata": {},
     "output_type": "execute_result"
    }
   ],
   "source": [
    "def update(x):\n",
    "    x = 8\n",
    "    return x\n",
    "\n",
    "update(10)"
   ]
  },
  {
   "cell_type": "code",
   "execution_count": 33,
   "id": "240b9391-b368-4146-9325-85cb9b0932f1",
   "metadata": {},
   "outputs": [
    {
     "name": "stdout",
     "output_type": "stream",
     "text": [
      "8\n",
      "10\n"
     ]
    }
   ],
   "source": [
    "def update(x):\n",
    "    x = 8\n",
    "    return x\n",
    "a = 10\n",
    "print(update(a))\n",
    "print(a)"
   ]
  },
  {
   "cell_type": "markdown",
   "id": "7f959f85-95da-4f46-a3fe-1d66efc89d83",
   "metadata": {},
   "source": [
    "### Function without argument--> Not required any argument to pass\n",
    "### Function with argument --> Required argument to pass\n",
    "* **There are two types of argument functions:**\n",
    "\n",
    " - 1.Formal argument function\n",
    "\n",
    " - 2.Actual argument function"
   ]
  },
  {
   "cell_type": "markdown",
   "id": "57720916-ba3f-45f0-bb34-c96e49500bc9",
   "metadata": {},
   "source": [
    "# Formal Arguments"
   ]
  },
  {
   "cell_type": "code",
   "execution_count": null,
   "id": "b65adab3-52fb-4000-9ab9-2e17ecb6e184",
   "metadata": {},
   "outputs": [],
   "source": [
    "def add(x,y): #x and y are Formal argument === Actual Argument in most cases\n",
    "    c = x + y\n",
    "    return c\n",
    "add(10,5) # 10,5 Actual argument"
   ]
  },
  {
   "cell_type": "markdown",
   "id": "25ef4d23-e2ac-4916-abd3-5fc74fd39437",
   "metadata": {},
   "source": [
    "# Actual argument\n",
    "* positional argument\n",
    "* keyword argument\n",
    "* default argument\n",
    "* variable length argument"
   ]
  },
  {
   "cell_type": "markdown",
   "id": "24960cf0-5d26-484c-815c-65d2f137f4cd",
   "metadata": {},
   "source": [
    "# 1. Postitional Argument"
   ]
  },
  {
   "cell_type": "code",
   "execution_count": null,
   "id": "4c8dbcdf-d011-4ee2-8d43-388dd79504d1",
   "metadata": {},
   "outputs": [
    {
     "name": "stdout",
     "output_type": "stream",
     "text": [
      "nit\n",
      "18\n"
     ]
    }
   ],
   "source": [
    "def person(name,age): \n",
    "    print(name)\n",
    "    print(age)\n",
    "\n",
    "person('nit',18)"
   ]
  },
  {
   "cell_type": "code",
   "execution_count": 10,
   "id": "ee19c508-cc83-4de4-8251-c6e6ad52befa",
   "metadata": {},
   "outputs": [
    {
     "data": {
      "text/plain": [
       "15"
      ]
     },
     "execution_count": 10,
     "metadata": {},
     "output_type": "execute_result"
    }
   ],
   "source": [
    "def solve(meal_cost,tip_percent,tax_percent):\n",
    "    \n",
    "    total_cost = round(meal_cost + meal_cost*(tip_percent/100) + meal_cost*(tax_percent/100))\n",
    "    return total_cost\n",
    "\n",
    "solve(12,20,8)"
   ]
  },
  {
   "cell_type": "code",
   "execution_count": null,
   "id": "d785540b-e496-4c66-ad9e-4999177421a3",
   "metadata": {},
   "outputs": [
    {
     "data": {
      "text/plain": [
       "205"
      ]
     },
     "execution_count": 3,
     "metadata": {},
     "output_type": "execute_result"
    }
   ],
   "source": [
    "def add(a,b,c,d,e,f):\n",
    "\n",
    "    c =  a + b + c + d + e + f\n",
    "    return c\n",
    "\n",
    "add(10,20,35,40,65,35)\n",
    "\n"
   ]
  },
  {
   "cell_type": "code",
   "execution_count": null,
   "id": "23cb7415-cd1b-4293-a4cb-b9c023f3bf3a",
   "metadata": {},
   "outputs": [
    {
     "name": "stdout",
     "output_type": "stream",
     "text": [
      "Ani\n",
      "25\n"
     ]
    }
   ],
   "source": [
    "def person(name,age):\n",
    "    print(name)\n",
    "    print(age)\n",
    "\n",
    "person('Ani',25)"
   ]
  },
  {
   "cell_type": "code",
   "execution_count": 7,
   "id": "bb4fc228",
   "metadata": {},
   "outputs": [
    {
     "name": "stdout",
     "output_type": "stream",
     "text": [
      "22\n",
      "Ani\n"
     ]
    }
   ],
   "source": [
    "def person(name,age):\n",
    "    print(name)\n",
    "    print(age)\n",
    "    \n",
    "person(22,'Ani')"
   ]
  },
  {
   "cell_type": "code",
   "execution_count": 8,
   "id": "2f23a445",
   "metadata": {},
   "outputs": [
    {
     "name": "stdout",
     "output_type": "stream",
     "text": [
      "22\n"
     ]
    },
    {
     "ename": "TypeError",
     "evalue": "can only concatenate str (not \"int\") to str",
     "output_type": "error",
     "traceback": [
      "\u001b[1;31m---------------------------------------------------------------------------\u001b[0m",
      "\u001b[1;31mTypeError\u001b[0m                                 Traceback (most recent call last)",
      "Cell \u001b[1;32mIn[8], line 5\u001b[0m\n\u001b[0;32m      2\u001b[0m     \u001b[38;5;28mprint\u001b[39m(name)\n\u001b[0;32m      3\u001b[0m     \u001b[38;5;28mprint\u001b[39m(age \u001b[38;5;241m+\u001b[39m \u001b[38;5;241m1\u001b[39m)\n\u001b[1;32m----> 5\u001b[0m person(\u001b[38;5;241m22\u001b[39m,\u001b[38;5;124m'\u001b[39m\u001b[38;5;124mani\u001b[39m\u001b[38;5;124m'\u001b[39m)\n",
      "Cell \u001b[1;32mIn[8], line 3\u001b[0m, in \u001b[0;36mperson\u001b[1;34m(name, age)\u001b[0m\n\u001b[0;32m      1\u001b[0m \u001b[38;5;28;01mdef\u001b[39;00m \u001b[38;5;21mperson\u001b[39m(name,age):\n\u001b[0;32m      2\u001b[0m     \u001b[38;5;28mprint\u001b[39m(name)\n\u001b[1;32m----> 3\u001b[0m     \u001b[38;5;28mprint\u001b[39m(age \u001b[38;5;241m+\u001b[39m \u001b[38;5;241m1\u001b[39m)\n",
      "\u001b[1;31mTypeError\u001b[0m: can only concatenate str (not \"int\") to str"
     ]
    }
   ],
   "source": [
    "def person(name,age):\n",
    "    print(name)\n",
    "    print(age + 1)\n",
    "\n",
    "person(22,'ani')"
   ]
  },
  {
   "cell_type": "markdown",
   "id": "5ff75fca",
   "metadata": {},
   "source": [
    "# Keyword Argument"
   ]
  },
  {
   "cell_type": "code",
   "execution_count": 12,
   "id": "c9489537",
   "metadata": {},
   "outputs": [
    {
     "name": "stdout",
     "output_type": "stream",
     "text": [
      "Ani\n",
      "25\n"
     ]
    }
   ],
   "source": [
    "def person(name,age):\n",
    "    print(name)\n",
    "    print(age + 1)\n",
    "    \n",
    "person(age = 24,name = 'Ani')"
   ]
  },
  {
   "cell_type": "code",
   "execution_count": 13,
   "id": "67468e4d",
   "metadata": {},
   "outputs": [
    {
     "name": "stdout",
     "output_type": "stream",
     "text": [
      "Ani\n",
      "26\n",
      "10000\n"
     ]
    }
   ],
   "source": [
    "def person(name,age,salary):\n",
    "    print(name)\n",
    "    print(age + 1)\n",
    "    print(salary)\n",
    "    \n",
    "person(name = 'Ani',salary =10000,age = 25)\n",
    "    "
   ]
  },
  {
   "cell_type": "markdown",
   "id": "dbefe0a5",
   "metadata": {},
   "source": [
    "# Default Argument"
   ]
  },
  {
   "cell_type": "code",
   "execution_count": 14,
   "id": "afcd30a3",
   "metadata": {},
   "outputs": [
    {
     "name": "stdout",
     "output_type": "stream",
     "text": [
      "Ani\n",
      "19\n",
      "22\n"
     ]
    }
   ],
   "source": [
    "def person(name,age,age2):\n",
    "    print(name)\n",
    "    print(age)\n",
    "    print(age2)\n",
    "\n",
    "person(age = 19,name = 'Ani',age2 = 22)"
   ]
  },
  {
   "cell_type": "code",
   "execution_count": 15,
   "id": "3de0d164",
   "metadata": {},
   "outputs": [
    {
     "ename": "TypeError",
     "evalue": "person() missing 1 required positional argument: 'age'",
     "output_type": "error",
     "traceback": [
      "\u001b[1;31m---------------------------------------------------------------------------\u001b[0m",
      "\u001b[1;31mTypeError\u001b[0m                                 Traceback (most recent call last)",
      "Cell \u001b[1;32mIn[15], line 5\u001b[0m\n\u001b[0;32m      2\u001b[0m     \u001b[38;5;28mprint\u001b[39m(name)\n\u001b[0;32m      3\u001b[0m     \u001b[38;5;28mprint\u001b[39m(age)\n\u001b[1;32m----> 5\u001b[0m person(\u001b[38;5;124m'\u001b[39m\u001b[38;5;124mAni\u001b[39m\u001b[38;5;124m'\u001b[39m)\n",
      "\u001b[1;31mTypeError\u001b[0m: person() missing 1 required positional argument: 'age'"
     ]
    }
   ],
   "source": [
    "def person(name,age):\n",
    "    print(name)\n",
    "    print(age)\n",
    "\n",
    "person('Ani')"
   ]
  },
  {
   "cell_type": "code",
   "execution_count": 16,
   "id": "e12ae5f2",
   "metadata": {},
   "outputs": [
    {
     "name": "stdout",
     "output_type": "stream",
     "text": [
      "Ani\n",
      "18\n"
     ]
    }
   ],
   "source": [
    "def person(name,age = 18):\n",
    "    print(name)\n",
    "    print(age)\n",
    "    \n",
    "\n",
    "person('Ani')"
   ]
  },
  {
   "cell_type": "code",
   "execution_count": 17,
   "id": "ec45f7a9",
   "metadata": {},
   "outputs": [
    {
     "name": "stdout",
     "output_type": "stream",
     "text": [
      "Ani\n",
      "28\n"
     ]
    }
   ],
   "source": [
    "def person(name,age = 18):\n",
    "    print(name)\n",
    "    print(age)\n",
    "person('Ani',age = 28)"
   ]
  },
  {
   "cell_type": "markdown",
   "id": "8b418460-818f-4dbe-89ce-8186515ed679",
   "metadata": {},
   "source": [
    "# Variable Lengths"
   ]
  },
  {
   "cell_type": "code",
   "execution_count": 1,
   "id": "8bbf7f9c",
   "metadata": {},
   "outputs": [
    {
     "ename": "TypeError",
     "evalue": "unsupported operand type(s) for +: 'int' and 'tuple'",
     "output_type": "error",
     "traceback": [
      "\u001b[1;31m---------------------------------------------------------------------------\u001b[0m",
      "\u001b[1;31mTypeError\u001b[0m                                 Traceback (most recent call last)",
      "Cell \u001b[1;32mIn[1], line 5\u001b[0m\n\u001b[0;32m      2\u001b[0m     c \u001b[38;5;241m=\u001b[39m a \u001b[38;5;241m+\u001b[39m b\n\u001b[0;32m      3\u001b[0m     \u001b[38;5;28;01mreturn\u001b[39;00m c\n\u001b[1;32m----> 5\u001b[0m \u001b[38;5;28msum\u001b[39m(\u001b[38;5;241m2\u001b[39m,\u001b[38;5;241m3\u001b[39m,\u001b[38;5;241m6\u001b[39m,\u001b[38;5;241m17\u001b[39m,\u001b[38;5;241m8\u001b[39m,\u001b[38;5;241m9\u001b[39m)\n",
      "Cell \u001b[1;32mIn[1], line 2\u001b[0m, in \u001b[0;36msum\u001b[1;34m(a, *b)\u001b[0m\n\u001b[0;32m      1\u001b[0m \u001b[38;5;28;01mdef\u001b[39;00m\u001b[38;5;250m \u001b[39m\u001b[38;5;21msum\u001b[39m(a,\u001b[38;5;241m*\u001b[39mb):\n\u001b[1;32m----> 2\u001b[0m     c \u001b[38;5;241m=\u001b[39m a \u001b[38;5;241m+\u001b[39m b\n\u001b[0;32m      3\u001b[0m     \u001b[38;5;28;01mreturn\u001b[39;00m c\n",
      "\u001b[1;31mTypeError\u001b[0m: unsupported operand type(s) for +: 'int' and 'tuple'"
     ]
    }
   ],
   "source": [
    "def sum(a,*b):\n",
    "    c = a + b\n",
    "    return c\n",
    "\n",
    "sum(2,3,6,17,8,9)"
   ]
  },
  {
   "cell_type": "code",
   "execution_count": 2,
   "id": "c4305fc7-b645-4451-8743-6260fcf0a2e7",
   "metadata": {},
   "outputs": [
    {
     "name": "stdout",
     "output_type": "stream",
     "text": [
      "<class 'int'>\n",
      "<class 'tuple'>\n"
     ]
    }
   ],
   "source": [
    "def sum(a,*b):\n",
    "    print(type(a))\n",
    "    print(type(b))\n",
    "sum(2,3,6,17,8,9)"
   ]
  },
  {
   "cell_type": "code",
   "execution_count": 3,
   "id": "253f7aab-e8b2-4512-91b7-af73a413f4c2",
   "metadata": {},
   "outputs": [
    {
     "name": "stdout",
     "output_type": "stream",
     "text": [
      "45\n"
     ]
    }
   ],
   "source": [
    "def sum(a,*b):\n",
    "    c = a \n",
    "    for i in b:\n",
    "        c = c + i\n",
    "    print(c)\n",
    "\n",
    "sum(2,3,6,17,8,9)"
   ]
  },
  {
   "cell_type": "markdown",
   "id": "d6e37d37-50a8-4f7b-9617-a1ddae092f20",
   "metadata": {},
   "source": [
    "# kwargs --: Keywords + variable length"
   ]
  },
  {
   "cell_type": "code",
   "execution_count": 4,
   "id": "0b46a625-cd67-426b-a623-1165f20fdb12",
   "metadata": {},
   "outputs": [
    {
     "name": "stdout",
     "output_type": "stream",
     "text": [
      "Alex\n",
      "(36, 'john', 34)\n"
     ]
    }
   ],
   "source": [
    "def person(name,*data):\n",
    "    print(name)\n",
    "    print(data)\n",
    "    \n",
    "person('Alex',36,'john',34)"
   ]
  },
  {
   "cell_type": "code",
   "execution_count": 5,
   "id": "71c9795c-2f2c-46a9-b445-a9607b7d0571",
   "metadata": {},
   "outputs": [
    {
     "name": "stdout",
     "output_type": "stream",
     "text": [
      "Alex\n",
      "(36, 'john', 34)\n"
     ]
    }
   ],
   "source": [
    "def person(name,*data):\n",
    "    print(name)\n",
    "    print(data)\n",
    "    \n",
    "person('Alex',36,'john',34)"
   ]
  },
  {
   "cell_type": "code",
   "execution_count": 7,
   "id": "44a00188-1d06-46b9-a951-1298d98a45bd",
   "metadata": {},
   "outputs": [
    {
     "ename": "TypeError",
     "evalue": "person() got an unexpected keyword argument 'age'",
     "output_type": "error",
     "traceback": [
      "\u001b[1;31m---------------------------------------------------------------------------\u001b[0m",
      "\u001b[1;31mTypeError\u001b[0m                                 Traceback (most recent call last)",
      "Cell \u001b[1;32mIn[7], line 5\u001b[0m\n\u001b[0;32m      2\u001b[0m     \u001b[38;5;28mprint\u001b[39m(name)\n\u001b[0;32m      3\u001b[0m     \u001b[38;5;28mprint\u001b[39m(data)\n\u001b[1;32m----> 5\u001b[0m person(\u001b[38;5;124m'\u001b[39m\u001b[38;5;124mAlex\u001b[39m\u001b[38;5;124m'\u001b[39m,age \u001b[38;5;241m=\u001b[39m \u001b[38;5;241m36\u001b[39m,home_place \u001b[38;5;241m=\u001b[39m \u001b[38;5;124m'\u001b[39m\u001b[38;5;124msouthcity\u001b[39m\u001b[38;5;124m'\u001b[39m,mob \u001b[38;5;241m=\u001b[39m \u001b[38;5;241m28393436\u001b[39m,)\n",
      "\u001b[1;31mTypeError\u001b[0m: person() got an unexpected keyword argument 'age'"
     ]
    }
   ],
   "source": [
    "def person(name,*data):\n",
    "    print(name)\n",
    "    print(data)\n",
    "    \n",
    "person('Alex',age = 36,home_place = 'southcity',mob = 28393436)"
   ]
  },
  {
   "cell_type": "code",
   "execution_count": 8,
   "id": "0f330eca-7752-46a1-b00b-b9c165d54d63",
   "metadata": {},
   "outputs": [
    {
     "name": "stdout",
     "output_type": "stream",
     "text": [
      "Alex\n",
      "{'age': 36, 'home_place': 'southcity', 'mob': 28393436}\n"
     ]
    }
   ],
   "source": [
    "def person(name,**data):\n",
    "    print(name)\n",
    "    print(data)\n",
    "    \n",
    "person('Alex',age = 36,home_place = 'southcity',mob = 28393436)"
   ]
  },
  {
   "cell_type": "code",
   "execution_count": 9,
   "id": "7927472f-1bf4-4ba7-b325-f910bddd76ed",
   "metadata": {},
   "outputs": [],
   "source": [
    "# Variable length single star(*)\n",
    "# Keyword argument Double star(**)"
   ]
  },
  {
   "cell_type": "markdown",
   "id": "3e8bb98b-05c1-4a71-bdd5-648eff503a6b",
   "metadata": {},
   "source": [
    "# Local and Global Variable"
   ]
  },
  {
   "cell_type": "code",
   "execution_count": 1,
   "id": "707d111c-8b62-4939-ab8f-9f9d08ee8ee6",
   "metadata": {},
   "outputs": [
    {
     "name": "stdout",
     "output_type": "stream",
     "text": [
      "10\n"
     ]
    }
   ],
   "source": [
    "a = 10\n",
    "print(a)"
   ]
  },
  {
   "cell_type": "code",
   "execution_count": 5,
   "id": "6e043abe-3300-49eb-be24-46de588aeee2",
   "metadata": {},
   "outputs": [],
   "source": [
    "a = 10 # -->variable which are defined outside the function is called Global variable\n",
    "\n",
    "def something():\n",
    "    b = 15 # variable which are defined inide the function is called local variable\n",
    "    \n",
    "    print('in function',b)\n",
    "    print('out function', a)"
   ]
  },
  {
   "cell_type": "code",
   "execution_count": 3,
   "id": "31a0a80e-1753-46f6-9f3a-93eeea8213e5",
   "metadata": {},
   "outputs": [
    {
     "name": "stdout",
     "output_type": "stream",
     "text": [
      "out function 10\n"
     ]
    }
   ],
   "source": [
    "a = 10 # -->variable which are defined outside the function is called Global variable\n",
    "\n",
    "def something():\n",
    "    b = 15 # variable which are defined inide the function is called local variable\n",
    "    print('in function',b)\n",
    "\n",
    "print('out function', a)"
   ]
  },
  {
   "cell_type": "code",
   "execution_count": 7,
   "id": "fbe5a76c-376c-4d0a-b621-6cff9486ec72",
   "metadata": {},
   "outputs": [
    {
     "name": "stdout",
     "output_type": "stream",
     "text": [
      "in function 15\n",
      "out function 10\n"
     ]
    }
   ],
   "source": [
    "a = 10 # -->variable which are defined outside the function is called Global variable\n",
    "\n",
    "def something():\n",
    "    b = 15 # variable which are defined inide the function is called local variable\n",
    "    print('in function',b)\n",
    "something() # Always call the defined function for the local output\n",
    "\n",
    "print('out function', a)"
   ]
  },
  {
   "cell_type": "code",
   "execution_count": 8,
   "id": "44ddc56e-59e2-4727-b9d9-dadd66550878",
   "metadata": {},
   "outputs": [
    {
     "name": "stdout",
     "output_type": "stream",
     "text": [
      "in function 10\n",
      "out function 10\n"
     ]
    }
   ],
   "source": [
    "a = 10 # -->variable which are defined outside the function is called Global variable\n",
    "\n",
    "def something():\n",
    "    a  = 15 # variable which are defined inide the function is called local variable\n",
    "\n",
    "print('in function',a)\n",
    "print('out function', a)"
   ]
  },
  {
   "cell_type": "code",
   "execution_count": 9,
   "id": "94012cef-511d-41fa-a1e3-9aa3fe6d9323",
   "metadata": {},
   "outputs": [
    {
     "name": "stdout",
     "output_type": "stream",
     "text": [
      "in function 10\n",
      "out function 10\n"
     ]
    }
   ],
   "source": [
    "a = 10 # -->variable which are defined outside the function is called Global variable\n",
    "\n",
    "def something():\n",
    "    a  = 15 # variable which are defined inide the function is called local variable\n",
    "something()\n",
    "print('in function',a)\n",
    "print('out function', a)"
   ]
  },
  {
   "cell_type": "code",
   "execution_count": 10,
   "id": "d07f000d-9961-4d79-bdc0-fb4e5d26e756",
   "metadata": {},
   "outputs": [
    {
     "name": "stdout",
     "output_type": "stream",
     "text": [
      "in function 15\n",
      "out function 10\n"
     ]
    }
   ],
   "source": [
    "a = 10 \n",
    "def something():\n",
    "    a  = 15 \n",
    "    print('in function',a)\n",
    "something()\n",
    "print('out function', a)"
   ]
  },
  {
   "cell_type": "code",
   "execution_count": 12,
   "id": "9aecf8d1-57da-4910-831b-5be99d8a59b4",
   "metadata": {},
   "outputs": [
    {
     "name": "stdout",
     "output_type": "stream",
     "text": [
      "in function 15\n"
     ]
    },
    {
     "ename": "NameError",
     "evalue": "name 'b' is not defined",
     "output_type": "error",
     "traceback": [
      "\u001b[1;31m---------------------------------------------------------------------------\u001b[0m",
      "\u001b[1;31mNameError\u001b[0m                                 Traceback (most recent call last)",
      "Cell \u001b[1;32mIn[12], line 6\u001b[0m\n\u001b[0;32m      4\u001b[0m     \u001b[38;5;28mprint\u001b[39m(\u001b[38;5;124m'\u001b[39m\u001b[38;5;124min function\u001b[39m\u001b[38;5;124m'\u001b[39m,b)\n\u001b[0;32m      5\u001b[0m something()\n\u001b[1;32m----> 6\u001b[0m \u001b[38;5;28mprint\u001b[39m(\u001b[38;5;124m'\u001b[39m\u001b[38;5;124min function\u001b[39m\u001b[38;5;124m'\u001b[39m,b)\n\u001b[0;32m      7\u001b[0m \u001b[38;5;28mprint\u001b[39m(\u001b[38;5;124m'\u001b[39m\u001b[38;5;124mout function\u001b[39m\u001b[38;5;124m'\u001b[39m, a)\n",
      "\u001b[1;31mNameError\u001b[0m: name 'b' is not defined"
     ]
    }
   ],
   "source": [
    "a = 10 \n",
    "def something():\n",
    "    b  = 15 \n",
    "    print('in function',b)\n",
    "something()\n",
    "print('in function',b)\n",
    "print('out function', a)"
   ]
  },
  {
   "cell_type": "code",
   "execution_count": 11,
   "id": "d4f25297-b985-438e-b0fa-616ad6cefa0b",
   "metadata": {},
   "outputs": [
    {
     "name": "stdout",
     "output_type": "stream",
     "text": [
      "in function 15\n",
      "out function 10\n"
     ]
    }
   ],
   "source": [
    "a = 10 \n",
    "def something():\n",
    "    b  = 15 \n",
    "    print('in function',b)\n",
    "something()\n",
    "print('out function', a)"
   ]
  },
  {
   "cell_type": "code",
   "execution_count": 16,
   "id": "e1274656-baa3-4609-a210-35b991ee2bee",
   "metadata": {},
   "outputs": [
    {
     "name": "stdout",
     "output_type": "stream",
     "text": [
      "in fiunction 15\n",
      "global variable 10\n",
      "out function 10\n"
     ]
    }
   ],
   "source": [
    "a = 10\n",
    "\n",
    "def something():\n",
    "    global a\n",
    "    b = 15\n",
    "    print('in fiunction',b)\n",
    "\n",
    "    print('global variable',a)\n",
    "\n",
    "something()\n",
    "\n",
    "print('out function', a)"
   ]
  },
  {
   "cell_type": "code",
   "execution_count": 18,
   "id": "d384b8b8-cdac-4338-a46b-6a53f1d3bc51",
   "metadata": {},
   "outputs": [
    {
     "name": "stdout",
     "output_type": "stream",
     "text": [
      "in fiunction 15\n",
      "global variable 10\n",
      "out function 110\n"
     ]
    }
   ],
   "source": [
    "a = 10\n",
    "\n",
    "def something():\n",
    "    global a\n",
    "    b = 15\n",
    "    print('in fiunction',b)\n",
    "    print('global variable',a)\n",
    "    a += 100\n",
    "something()\n",
    "\n",
    "print('out function', a)"
   ]
  },
  {
   "cell_type": "code",
   "execution_count": 19,
   "id": "6e6cd78b-990d-4dc3-b98c-c558418a4cf4",
   "metadata": {},
   "outputs": [
    {
     "name": "stdout",
     "output_type": "stream",
     "text": [
      "in fiunction 15\n",
      "global variable 110\n",
      "out function 110\n"
     ]
    }
   ],
   "source": [
    "a = 10\n",
    "\n",
    "def something():\n",
    "    global a\n",
    "    b = 15\n",
    "    print('in fiunction',b)\n",
    "    a+=100\n",
    "    print('global variable',a)\n",
    "\n",
    "something()\n",
    "\n",
    "print('out function', a)"
   ]
  },
  {
   "cell_type": "code",
   "execution_count": null,
   "id": "59223fc1-2436-4783-86cb-3eff1f6a7129",
   "metadata": {},
   "outputs": [],
   "source": []
  },
  {
   "cell_type": "code",
   "execution_count": null,
   "id": "c967e664-5644-4498-adff-a2588bbfd31c",
   "metadata": {},
   "outputs": [],
   "source": []
  },
  {
   "cell_type": "code",
   "execution_count": null,
   "id": "30b01363-3c52-412f-9611-ef9f92efe392",
   "metadata": {},
   "outputs": [],
   "source": []
  },
  {
   "cell_type": "code",
   "execution_count": null,
   "id": "0e3e8e92-8e1f-4dff-ad0c-16bbebdbe7a9",
   "metadata": {},
   "outputs": [],
   "source": []
  },
  {
   "cell_type": "code",
   "execution_count": null,
   "id": "6bc3efcc-40b4-4dd4-800b-371019fc875c",
   "metadata": {},
   "outputs": [],
   "source": []
  },
  {
   "cell_type": "code",
   "execution_count": null,
   "id": "f67e10aa-140d-4856-afab-4f306025b2fd",
   "metadata": {},
   "outputs": [],
   "source": []
  },
  {
   "cell_type": "code",
   "execution_count": null,
   "id": "b4fff3cf-3373-4d01-8e81-17d67a3f7e3f",
   "metadata": {},
   "outputs": [],
   "source": []
  },
  {
   "cell_type": "code",
   "execution_count": null,
   "id": "b8a3d2aa-2608-454d-8754-def99199970a",
   "metadata": {},
   "outputs": [],
   "source": []
  },
  {
   "cell_type": "code",
   "execution_count": null,
   "id": "a3b68359-d99d-4687-9d8b-6794ffeff84f",
   "metadata": {},
   "outputs": [],
   "source": []
  },
  {
   "cell_type": "code",
   "execution_count": null,
   "id": "a3ea2da4-3d92-4284-8065-1bb3289bdd7d",
   "metadata": {},
   "outputs": [],
   "source": []
  },
  {
   "cell_type": "code",
   "execution_count": null,
   "id": "481743de-7150-4de2-a305-6b75b8e6dbd4",
   "metadata": {},
   "outputs": [],
   "source": []
  },
  {
   "cell_type": "code",
   "execution_count": null,
   "id": "00b303bb-9c9e-4532-8894-e0afb9900207",
   "metadata": {},
   "outputs": [],
   "source": []
  },
  {
   "cell_type": "code",
   "execution_count": null,
   "id": "62853472-5a9c-43fc-96e4-f9b352ecc783",
   "metadata": {},
   "outputs": [],
   "source": []
  },
  {
   "cell_type": "code",
   "execution_count": null,
   "id": "36a58475-bb37-4351-b832-17e37b503a76",
   "metadata": {},
   "outputs": [],
   "source": []
  },
  {
   "cell_type": "code",
   "execution_count": null,
   "id": "14e27dd1-a82a-45e2-977c-9a3f6b27636a",
   "metadata": {},
   "outputs": [],
   "source": []
  },
  {
   "cell_type": "code",
   "execution_count": null,
   "id": "bc555611-dc2c-4332-8c2b-2111deee4156",
   "metadata": {},
   "outputs": [],
   "source": []
  },
  {
   "cell_type": "code",
   "execution_count": null,
   "id": "276dfcc4-1c4f-4117-9161-cef5e82353e9",
   "metadata": {},
   "outputs": [],
   "source": []
  },
  {
   "cell_type": "code",
   "execution_count": null,
   "id": "a5e4837d-ef89-4003-93dd-f784a602c479",
   "metadata": {},
   "outputs": [],
   "source": []
  }
 ],
 "metadata": {
  "kernelspec": {
   "display_name": "Python 3 (ipykernel)",
   "language": "python",
   "name": "python3"
  },
  "language_info": {
   "codemirror_mode": {
    "name": "ipython",
    "version": 3
   },
   "file_extension": ".py",
   "mimetype": "text/x-python",
   "name": "python",
   "nbconvert_exporter": "python",
   "pygments_lexer": "ipython3",
   "version": "3.12.7"
  }
 },
 "nbformat": 4,
 "nbformat_minor": 5
}
