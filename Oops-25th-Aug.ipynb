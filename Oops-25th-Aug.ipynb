{
 "cells": [
  {
   "cell_type": "code",
   "execution_count": 2,
   "id": "a3248607-e930-4924-aa44-11c3ae81916e",
   "metadata": {},
   "outputs": [
    {
     "name": "stdout",
     "output_type": "stream",
     "text": [
      "i5 8gb\n"
     ]
    }
   ],
   "source": [
    "class computer:\n",
    "    def config(): # self is the object which user passing\n",
    "        print('i5','8gb')\n",
    "\n",
    "\n",
    "computer.config() #Hear com1 act as parameter going to the self"
   ]
  },
  {
   "cell_type": "code",
   "execution_count": 6,
   "id": "a09e4099-5dc0-40a6-b215-79dd9d6ace89",
   "metadata": {},
   "outputs": [
    {
     "ename": "TypeError",
     "evalue": "computer.config() missing 1 required positional argument: 'self'",
     "output_type": "error",
     "traceback": [
      "\u001b[1;31m---------------------------------------------------------------------------\u001b[0m",
      "\u001b[1;31mTypeError\u001b[0m                                 Traceback (most recent call last)",
      "Cell \u001b[1;32mIn[6], line 7\u001b[0m\n\u001b[0;32m      3\u001b[0m         \u001b[38;5;28mprint\u001b[39m(\u001b[38;5;124m'\u001b[39m\u001b[38;5;124mi7\u001b[39m\u001b[38;5;124m'\u001b[39m,\u001b[38;5;124m'\u001b[39m\u001b[38;5;124m16gb\u001b[39m\u001b[38;5;124m'\u001b[39m)\n\u001b[0;32m      5\u001b[0m com1 \u001b[38;5;241m=\u001b[39m computer()\n\u001b[1;32m----> 7\u001b[0m computer\u001b[38;5;241m.\u001b[39mconfig()\n",
      "\u001b[1;31mTypeError\u001b[0m: computer.config() missing 1 required positional argument: 'self'"
     ]
    }
   ],
   "source": [
    "class computer:\n",
    "    def config(self):\n",
    "        print('i7','16gb')\n",
    "        \n",
    "com1 = computer()\n",
    "\n",
    "computer.config()"
   ]
  },
  {
   "cell_type": "code",
   "execution_count": 5,
   "id": "b2d68e51-1822-43fd-ad15-ecedda5f8dcd",
   "metadata": {},
   "outputs": [
    {
     "name": "stdout",
     "output_type": "stream",
     "text": [
      "i7 16gb\n"
     ]
    }
   ],
   "source": [
    "class computer:\n",
    "    def config(self):\n",
    "        print('i7','16gb')\n",
    "        \n",
    "com1 = computer()\n",
    "\n",
    "com1.config()\n"
   ]
  },
  {
   "cell_type": "code",
   "execution_count": 7,
   "id": "390537d0-3422-4e86-981c-764a91dfa47c",
   "metadata": {},
   "outputs": [
    {
     "name": "stdout",
     "output_type": "stream",
     "text": [
      "i5 16gb\n",
      "i5 16gb\n"
     ]
    }
   ],
   "source": [
    "class computer:\n",
    "    def config(self):\n",
    "        print('i5','16gb')\n",
    "com1 = computer()\n",
    "com2 = computer()\n",
    "\n",
    "com1.config()\n",
    "com1.config()"
   ]
  },
  {
   "cell_type": "code",
   "execution_count": 8,
   "id": "fa784e79-c038-47f5-a1a6-8a11aa67aca6",
   "metadata": {},
   "outputs": [
    {
     "name": "stdout",
     "output_type": "stream",
     "text": [
      "i7 32gb\n",
      "i7 32gb\n",
      "i7 32gb\n"
     ]
    }
   ],
   "source": [
    "class computer:\n",
    "    def config(self):\n",
    "        print('i7','32gb')\n",
    "\n",
    "com1 = computer()\n",
    "com2 = computer()\n",
    "com3 = computer()\n",
    "\n",
    "com1.config()\n",
    "com2.config()\n",
    "com3.config()"
   ]
  },
  {
   "cell_type": "code",
   "execution_count": 9,
   "id": "1f024785-1ba5-46e7-be87-5b0d4cb9defa",
   "metadata": {},
   "outputs": [],
   "source": [
    "class computer:\n",
    "    def config(self):\n",
    "        print('i5','8gb')\n",
    "com1 = computer()"
   ]
  },
  {
   "cell_type": "code",
   "execution_count": 14,
   "id": "0bce782f-0db3-4b18-955e-2619ff7dbce8",
   "metadata": {},
   "outputs": [
    {
     "name": "stdout",
     "output_type": "stream",
     "text": [
      "in init\n",
      "in init\n",
      "in init\n",
      "in init\n"
     ]
    }
   ],
   "source": [
    "class computer:\n",
    "    def __init__(self): # Special method\n",
    "        print('in init')\n",
    "        \n",
    "com1 = computer()\n",
    "com2 = computer()\n",
    "\n",
    "com1.__init__()\n",
    "com2.__init__()"
   ]
  },
  {
   "cell_type": "code",
   "execution_count": 15,
   "id": "da9692b0-8797-47bb-ae1b-1f26ac02f3fc",
   "metadata": {},
   "outputs": [
    {
     "name": "stdout",
     "output_type": "stream",
     "text": [
      "in init\n",
      "in init\n"
     ]
    }
   ],
   "source": [
    "class computer:\n",
    "    def __init__(self): # Special method\n",
    "        print('in init')\n",
    "        \n",
    "com1 = computer()\n",
    "com2 = computer()\n"
   ]
  },
  {
   "cell_type": "code",
   "execution_count": 17,
   "id": "32f54705-275f-4e37-a6f7-33393d7ed9e2",
   "metadata": {},
   "outputs": [
    {
     "name": "stdout",
     "output_type": "stream",
     "text": [
      "in init\n",
      "in init\n",
      "i7 32gb\n",
      "i7 32gb\n"
     ]
    }
   ],
   "source": [
    "class computer():\n",
    "    def __init__(self):\n",
    "        print('in init')\n",
    "    def config(self):\n",
    "        print('i7','32gb')\n",
    "\n",
    "com1 = computer()\n",
    "com2 = computer()\n",
    "\n",
    "com1.config()\n",
    "com2.config()"
   ]
  },
  {
   "cell_type": "code",
   "execution_count": 19,
   "id": "4de0e961-a0f9-43d6-a6db-c3cf757461e9",
   "metadata": {},
   "outputs": [
    {
     "ename": "TypeError",
     "evalue": "computer.__init__() takes 1 positional argument but 4 were given",
     "output_type": "error",
     "traceback": [
      "\u001b[1;31m---------------------------------------------------------------------------\u001b[0m",
      "\u001b[1;31mTypeError\u001b[0m                                 Traceback (most recent call last)",
      "Cell \u001b[1;32mIn[19], line 9\u001b[0m\n\u001b[0;32m      6\u001b[0m     \u001b[38;5;28;01mdef\u001b[39;00m\u001b[38;5;250m \u001b[39m\u001b[38;5;21mconfig\u001b[39m(\u001b[38;5;28mself\u001b[39m):\n\u001b[0;32m      7\u001b[0m         \u001b[38;5;28mprint\u001b[39m(\u001b[38;5;124m'\u001b[39m\u001b[38;5;124mi5\u001b[39m\u001b[38;5;124m'\u001b[39m,\u001b[38;5;124m'\u001b[39m\u001b[38;5;124m32gb\u001b[39m\u001b[38;5;124m'\u001b[39m)\n\u001b[1;32m----> 9\u001b[0m com1 \u001b[38;5;241m=\u001b[39m computer(\u001b[38;5;124m'\u001b[39m\u001b[38;5;124mi5\u001b[39m\u001b[38;5;124m'\u001b[39m,\u001b[38;5;241m12\u001b[39m,\u001b[38;5;241m100000\u001b[39m)\n\u001b[0;32m     10\u001b[0m com2 \u001b[38;5;241m=\u001b[39m computer(\u001b[38;5;124m'\u001b[39m\u001b[38;5;124mi7\u001b[39m\u001b[38;5;124m'\u001b[39m,\u001b[38;5;241m12\u001b[39m,\u001b[38;5;241m120000\u001b[39m)\n\u001b[0;32m     12\u001b[0m com1\u001b[38;5;241m.\u001b[39mconfig()\n",
      "\u001b[1;31mTypeError\u001b[0m: computer.__init__() takes 1 positional argument but 4 were given"
     ]
    }
   ],
   "source": [
    "# Passing some argument\n",
    "\n",
    "class computer():\n",
    "    def __init__(self):\n",
    "        print(\"in init\")\n",
    "    def config(self):\n",
    "        print('i5','32gb')\n",
    "        \n",
    "com1 = computer('i5',12,100000)\n",
    "com2 = computer('i7',12,120000)\n",
    "\n",
    "com1.config()\n",
    "com1.config()"
   ]
  },
  {
   "cell_type": "code",
   "execution_count": 20,
   "id": "6e3bd494-2ecb-4fc7-91ad-e52e70698777",
   "metadata": {},
   "outputs": [
    {
     "name": "stdout",
     "output_type": "stream",
     "text": [
      "in init\n",
      "in init\n",
      "i5 32gb\n",
      "i5 32gb\n"
     ]
    }
   ],
   "source": [
    "class computer():\n",
    "    def __init__(self,cpu,ram): # CPU and RAM as argument\n",
    "        print('in init')\n",
    "    def config(self):\n",
    "        print('i5','32gb')\n",
    "\n",
    "com1 = computer('i9','16gb')\n",
    "com2 = computer('i7','8gb')\n",
    "\n",
    "com1.config()\n",
    "com2.config()"
   ]
  },
  {
   "cell_type": "markdown",
   "id": "32de78f1-c846-44bd-a3ae-7c7de4fe5e14",
   "metadata": {},
   "source": [
    "## self is the argument and self also act as a object"
   ]
  },
  {
   "cell_type": "code",
   "execution_count": 23,
   "id": "a78a9328-f3c1-4168-9d8d-e2e7f84968aa",
   "metadata": {},
   "outputs": [
    {
     "name": "stdout",
     "output_type": "stream",
     "text": [
      "config is i5 8gb\n",
      "config is i7 16gb\n",
      "config is i7 32gb\n"
     ]
    }
   ],
   "source": [
    "class computer():\n",
    "    def __init__(self,cpu,ram):\n",
    "        self.cpu = cpu\n",
    "        self.ram = ram\n",
    "    def config(self):\n",
    "        print('config is', self.cpu,self.ram)\n",
    "\n",
    "com1 = computer('i5','8gb')\n",
    "com2 = computer('i7','16gb')\n",
    "com3 = computer('i7','32gb')\n",
    "\n",
    "com1.config()\n",
    "com2.config()\n",
    "com3.config()"
   ]
  },
  {
   "cell_type": "code",
   "execution_count": 26,
   "id": "019eb3a8-8826-4cd8-80b3-a7464a9c58c3",
   "metadata": {},
   "outputs": [
    {
     "name": "stdout",
     "output_type": "stream",
     "text": [
      "config is i5 8 27000\n",
      "config is i7 16 67000\n"
     ]
    }
   ],
   "source": [
    "class computer():\n",
    "    def __init__(self,cpu,ram,price):\n",
    "        self.cpu = cpu\n",
    "        self.ram = ram\n",
    "        self.price = price\n",
    "\n",
    "    def config(self):\n",
    "        print('config is', self.cpu,self.ram,self.price)\n",
    "\n",
    "com1 = computer('i5',8,27000)\n",
    "com2 = computer('i7',16,67000)\n",
    "\n",
    "com1.config()\n",
    "com2.config()"
   ]
  },
  {
   "cell_type": "code",
   "execution_count": 27,
   "id": "12fbec04-4f0a-4c27-855c-1fd09611b83a",
   "metadata": {},
   "outputs": [
    {
     "ename": "IndentationError",
     "evalue": "expected an indented block after class definition on line 1 (2362879588.py, line 2)",
     "output_type": "error",
     "traceback": [
      "\u001b[1;36m  Cell \u001b[1;32mIn[27], line 2\u001b[1;36m\u001b[0m\n\u001b[1;33m    c1 = computer()\u001b[0m\n\u001b[1;37m    ^\u001b[0m\n\u001b[1;31mIndentationError\u001b[0m\u001b[1;31m:\u001b[0m expected an indented block after class definition on line 1\n"
     ]
    }
   ],
   "source": [
    "class computer():\n",
    "c1 = computer()\n",
    "print(id(c1))"
   ]
  },
  {
   "cell_type": "code",
   "execution_count": 28,
   "id": "f3dcb83d-edfa-48e6-89d8-39a90bc4807e",
   "metadata": {},
   "outputs": [
    {
     "name": "stdout",
     "output_type": "stream",
     "text": [
      "1546797643584\n"
     ]
    }
   ],
   "source": [
    "class computer():\n",
    "    pass\n",
    "c1 = computer()\n",
    "print(id(c1))"
   ]
  },
  {
   "cell_type": "code",
   "execution_count": 29,
   "id": "a9e9c05f-2440-4976-92c8-f10a8645baea",
   "metadata": {},
   "outputs": [
    {
     "name": "stdout",
     "output_type": "stream",
     "text": [
      "1546800246576\n",
      "1546797643584\n"
     ]
    }
   ],
   "source": [
    "class computer():\n",
    "    pass\n",
    "c1 = computer()\n",
    "c2 = computer()\n",
    "print(id(c1))\n",
    "print(id(c2))"
   ]
  },
  {
   "cell_type": "code",
   "execution_count": 38,
   "id": "b6db4943-4f7f-44a9-92b3-74b08229e7eb",
   "metadata": {},
   "outputs": [
    {
     "name": "stdout",
     "output_type": "stream",
     "text": [
      "1546800283184\n",
      "1546812790144\n",
      "Aniket 26\n",
      "Aniket 26\n"
     ]
    }
   ],
   "source": [
    "class student:\n",
    "    def __init__(self):\n",
    "        self.name = 'Aniket'\n",
    "        self.age = 26\n",
    "\n",
    "s1 = student()\n",
    "s2 = student()\n",
    "\n",
    "print(id(s1))\n",
    "print(id(s2))\n",
    "\n",
    "print(s1.name,s1.age)\n",
    "print(s2.name,s2.age)"
   ]
  },
  {
   "cell_type": "code",
   "execution_count": 40,
   "id": "b5b54c9f-b37c-4283-943d-90fd1ce3ff61",
   "metadata": {},
   "outputs": [
    {
     "name": "stdout",
     "output_type": "stream",
     "text": [
      "1546812788704\n",
      "1546770458688\n",
      "Ayush\n",
      "24\n",
      "Aniket\n",
      "26\n"
     ]
    }
   ],
   "source": [
    "class student():\n",
    "    def __init__(self):\n",
    "        self.name = 'Aniket'\n",
    "        self.age = 26\n",
    "s1 = student()\n",
    "s2 = student()\n",
    "\n",
    "print(id(s1))\n",
    "print(id(s2))\n",
    "\n",
    "s1.name = 'Ayush'\n",
    "s1.age = '24'\n",
    "\n",
    "print(s1.name)\n",
    "print(s1.age)\n",
    "print(s2.name)\n",
    "print(s2.age)"
   ]
  },
  {
   "cell_type": "code",
   "execution_count": 41,
   "id": "03a46511-642c-4d90-8b76-e3cc07f615f9",
   "metadata": {},
   "outputs": [
    {
     "name": "stdout",
     "output_type": "stream",
     "text": [
      "1546812535248\n",
      "1546812788704\n"
     ]
    },
    {
     "ename": "AttributeError",
     "evalue": "'student' object has no attribute 'compare'",
     "output_type": "error",
     "traceback": [
      "\u001b[1;31m---------------------------------------------------------------------------\u001b[0m",
      "\u001b[1;31mAttributeError\u001b[0m                            Traceback (most recent call last)",
      "Cell \u001b[1;32mIn[41], line 14\u001b[0m\n\u001b[0;32m     11\u001b[0m \u001b[38;5;28mprint\u001b[39m(\u001b[38;5;28mid\u001b[39m(s1))\n\u001b[0;32m     12\u001b[0m \u001b[38;5;28mprint\u001b[39m(\u001b[38;5;28mid\u001b[39m(s2))\n\u001b[1;32m---> 14\u001b[0m \u001b[38;5;28;01mif\u001b[39;00m s1\u001b[38;5;241m.\u001b[39mcompare(s2): \u001b[38;5;66;03m#hear i dont want to compare object address but i want to compare values means age\u001b[39;00m\n\u001b[0;32m     15\u001b[0m     \u001b[38;5;28mprint\u001b[39m(\u001b[38;5;124m'\u001b[39m\u001b[38;5;124mThey are same\u001b[39m\u001b[38;5;124m'\u001b[39m) \u001b[38;5;66;03m# compare is not an inbuild method\u001b[39;00m\n\u001b[0;32m     17\u001b[0m s1\u001b[38;5;241m.\u001b[39mupdate() \u001b[38;5;66;03m#when we call update which value will change & i am not mentioning which object i am talking about\u001b[39;00m\n",
      "\u001b[1;31mAttributeError\u001b[0m: 'student' object has no attribute 'compare'"
     ]
    }
   ],
   "source": [
    "class student():\n",
    "    def __init__(self):\n",
    "        self.name = 'Aniket'\n",
    "        self.age = 26\n",
    "\n",
    "    def update(self):\n",
    "        self.age = 25\n",
    "s1 = student()\n",
    "s2 = student()\n",
    "\n",
    "print(id(s1))\n",
    "print(id(s2))\n",
    "\n",
    "if s1.compare(s2): #hear i dont want to compare object address but i want to compare values means age\n",
    "    print('They are same') # compare is not an inbuild method\n",
    "\n",
    "s1.update() #when we call update which value will change & i am not mentioning which object i am talking about\n",
    "\n",
    "print(s1.name)\n",
    "print(s1.age)\n",
    "print(s2.name)\n",
    "print(s2.age)"
   ]
  },
  {
   "cell_type": "code",
   "execution_count": 43,
   "id": "51efec7a-8c45-4ae2-95ba-6d8446851569",
   "metadata": {},
   "outputs": [
    {
     "name": "stdout",
     "output_type": "stream",
     "text": [
      "They are same\n",
      "prakash 37\n",
      "prakash 37\n"
     ]
    }
   ],
   "source": [
    "class student():\n",
    "    def __init__(self):\n",
    "        self.name = 'prakash'\n",
    "        self.age = 37\n",
    "\n",
    "    def compare(self,other): # that means self become c1 & you are compare with others,self is comparing with others \n",
    "        if self.age == other.age:\n",
    "            return True\n",
    "        else:\n",
    "            return False\n",
    "            \n",
    "s1 = student()\n",
    "s2 = student()\n",
    "\n",
    "if s1.compare(s2):\n",
    "    print('They are same')\n",
    "\n",
    "#s1.update()\n",
    "\n",
    "print(s1.name,s1.age)\n",
    "print(s2.name, s2.age)"
   ]
  },
  {
   "cell_type": "code",
   "execution_count": 45,
   "id": "8c849688-4422-4a23-aed9-2fc38c324710",
   "metadata": {},
   "outputs": [
    {
     "name": "stdout",
     "output_type": "stream",
     "text": [
      "both are different\n",
      "Aniket 26\n",
      "Rahul 23\n"
     ]
    }
   ],
   "source": [
    "class student():\n",
    "    def __init__(self,name,age):\n",
    "        self.name = name\n",
    "        self.age = age\n",
    "\n",
    "    def compare(self,other): # that means self become c1 & you are compare with others,self is comparing with others \n",
    "        if self.age == other.age:\n",
    "            return True\n",
    "        else:\n",
    "            return False\n",
    "            \n",
    "s1 = student('Aniket',26)\n",
    "s2 = student('Rahul',23)\n",
    "\n",
    "if s1.compare(s2):\n",
    "    print('They are same')\n",
    "else:\n",
    "    print('both are different')\n",
    "\n",
    "#s1.update()\n",
    "\n",
    "print(s1.name,s1.age)\n",
    "print(s2.name, s2.age)"
   ]
  },
  {
   "cell_type": "markdown",
   "id": "ce14cb5a-1120-49e8-9338-a6f60c7ed362",
   "metadata": {},
   "source": [
    "# Encapsulation\n"
   ]
  },
  {
   "cell_type": "code",
   "execution_count": 46,
   "id": "da032a16-7e21-4f0d-ac39-64ab340b1bba",
   "metadata": {},
   "outputs": [
    {
     "name": "stdout",
     "output_type": "stream",
     "text": [
      "bmw 10\n",
      "bmw 10\n"
     ]
    }
   ],
   "source": [
    "class car:\n",
    "    def __init__(self):\n",
    "        self.mil = 10\n",
    "        self.com = 'bmw'\n",
    "\n",
    "c1 = car()\n",
    "c2 = car()\n",
    "\n",
    "print(c1.com,c1.mil)\n",
    "print(c2.com,c2.mil)"
   ]
  },
  {
   "cell_type": "code",
   "execution_count": 48,
   "id": "bf460f1b-0061-4bb7-b9ad-b20628253f6e",
   "metadata": {},
   "outputs": [
    {
     "name": "stdout",
     "output_type": "stream",
     "text": [
      "bmw 8\n",
      "maruti 12\n"
     ]
    }
   ],
   "source": [
    "class car():\n",
    "    def __init__(self):\n",
    "        self.mil = 10\n",
    "        self.com = 'bmw'\n",
    "c1 = car()\n",
    "c2 = car()\n",
    "\n",
    "c1.mil = 8\n",
    "\n",
    "c2.com = 'maruti'\n",
    "c2.mil = 12\n",
    "\n",
    "print(c1.com,c1.mil)\n",
    "print(c2.com,c2.mil)"
   ]
  },
  {
   "cell_type": "code",
   "execution_count": 51,
   "id": "81951ac9-9ce8-44a6-b01b-fbf8f6d1bb39",
   "metadata": {},
   "outputs": [
    {
     "name": "stdout",
     "output_type": "stream",
     "text": [
      "8 bmw 5\n",
      "16 maruti 10\n"
     ]
    }
   ],
   "source": [
    "class car():\n",
    "    wheels = 5\n",
    "    def __init__(self):\n",
    "        self.mil = 10\n",
    "        self.com = 'bmw'\n",
    "c1 = car()\n",
    "c2 = car()\n",
    "\n",
    "c1.mil = 8\n",
    "c2.com = 'maruti'\n",
    "c2.mil = 16\n",
    "c2.wheels = 10\n",
    "\n",
    "print(c1.mil,c1.com,c1.wheels)\n",
    "print(c2.mil,c2.com,c2.wheels)"
   ]
  },
  {
   "cell_type": "code",
   "execution_count": 55,
   "id": "a2dc7567-74c5-4c23-8e77-66f7943437ee",
   "metadata": {},
   "outputs": [
    {
     "name": "stdout",
     "output_type": "stream",
     "text": [
      "80.333\n",
      "79.33\n"
     ]
    }
   ],
   "source": [
    "class student():\n",
    "    school = 'nit'\n",
    "\n",
    "    def __init__(self,m1,m2,m3):\n",
    "        self.m1 = m1\n",
    "        self.m2 = m2\n",
    "        self.m3 = m3\n",
    "\n",
    "    def avg(self):\n",
    "        return (self.m1 + self.m2 + self.m3)/3\n",
    "\n",
    "s1 = student(78,65,98)\n",
    "s2 = student(74,85,79)\n",
    "\n",
    "print(round(s1.avg(),3))\n",
    "print(round(s2.avg(),2))"
   ]
  },
  {
   "cell_type": "code",
   "execution_count": null,
   "id": "296e13a3-cf75-4b24-9f9c-01e4a615a501",
   "metadata": {},
   "outputs": [],
   "source": []
  }
 ],
 "metadata": {
  "kernelspec": {
   "display_name": "Python 3 (ipykernel)",
   "language": "python",
   "name": "python3"
  },
  "language_info": {
   "codemirror_mode": {
    "name": "ipython",
    "version": 3
   },
   "file_extension": ".py",
   "mimetype": "text/x-python",
   "name": "python",
   "nbconvert_exporter": "python",
   "pygments_lexer": "ipython3",
   "version": "3.12.7"
  }
 },
 "nbformat": 4,
 "nbformat_minor": 5
}
